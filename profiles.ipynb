{
 "cells": [
  {
   "cell_type": "code",
   "execution_count": 1,
   "metadata": {},
   "outputs": [],
   "source": [
    "import json\n"
   ]
  },
  {
   "cell_type": "code",
   "execution_count": 8,
   "metadata": {},
   "outputs": [],
   "source": [
    "# json for candidate profiles\n",
    "with open(\"Resources/candidates.txt\", 'r') as f:\n",
    "    names = f.read()\n",
    "\n",
    "name_list = names.split('\\n')\n",
    "\n",
    "cand_profile_list=[]\n",
    "\n",
    "for last_name in name_list:\n",
    "\n",
    "    cand_profile = {\n",
    "        \"first_name\": \"\",\n",
    "        \"last_name\":last_name,\n",
    "        \"position\":\"\",\n",
    "        \"dob\":\"\",\n",
    "        \"location/origin\":\"\",\n",
    "        \"gender\":\"M\",\n",
    "        \"race/ethnicity\":\"White\"\n",
    "    }\n",
    "    \n",
    "    cand_profile_list.append(cand_profile)\n",
    "\n",
    "with open(\"Resources/candidate_profiles.json\", 'w') as f:\n",
    "    json.dump(cand_profile_list, f, indent=2)\n"
   ]
  },
  {
   "cell_type": "code",
   "execution_count": 11,
   "metadata": {},
   "outputs": [],
   "source": [
    "# json for proctor profiles\n",
    "with open(\"Resources/proctors.txt\", 'r') as f:\n",
    "    names = f.read()\n",
    "\n",
    "name_list = names.split('\\n')\n",
    "\n",
    "proc_profile_list=[]\n",
    "\n",
    "for last_name in name_list:\n",
    "\n",
    "    proc_profile = {\n",
    "        \"first_name\": \"\",\n",
    "        \"last_name\": last_name,\n",
    "        \"gender\":\"M\",\n",
    "        \"news_organization\":\"\",\n",
    "    }\n",
    "    \n",
    "    proc_profile_list.append(proc_profile)\n",
    "\n",
    "\n",
    "with open(\"Resources/proctor_profiles.json\", 'w') as f:\n",
    "    json.dump(proc_profile_list, f, indent=2)\n"
   ]
  },
  {
   "cell_type": "code",
   "execution_count": null,
   "metadata": {},
   "outputs": [],
   "source": []
  }
 ],
 "metadata": {
  "kernelspec": {
   "display_name": "Python 3",
   "language": "python",
   "name": "python3"
  },
  "language_info": {
   "codemirror_mode": {
    "name": "ipython",
    "version": 3
   },
   "file_extension": ".py",
   "mimetype": "text/x-python",
   "name": "python",
   "nbconvert_exporter": "python",
   "pygments_lexer": "ipython3",
   "version": "3.6.9"
  }
 },
 "nbformat": 4,
 "nbformat_minor": 2
}
